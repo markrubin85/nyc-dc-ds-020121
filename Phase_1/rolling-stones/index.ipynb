{
 "cells": [
  {
   "cell_type": "markdown",
   "metadata": {},
   "source": [
    "# Instructions:"
   ]
  },
  {
   "cell_type": "markdown",
   "metadata": {},
   "source": [
    "## Getting Started\n",
    "In this exercise, we will be using data from `rolling stone's top 500 albums`. We have this data contained in the `data.csv` file. We will be building out the following functions to answer questions and interact with this data.\n",
    "\n",
    "> **remember:** reading from a csv file in python looks like the following:\n",
    "\n",
    "```python \n",
    "import csv\n",
    "\n",
    "    with open(file_name) as f:\n",
    "        # we are using DictReader because we want our information to be in dictionary format.\n",
    "        reader = csv.DictReader(f)\n",
    "        # some more code\n",
    "```\n",
    "\n",
    "Once we have our `reader` reading our file as dictionaries, we want our data to be a list of dictionaries. So, we need to loop through our `reader` and create a list. *hint: list comprehension / for loops are your friend\"\n",
    "\n",
    "```python\n",
    "# our data will look something like this once we have read it and turned it into a list of `OrderedDict`s\n",
    "# don't worry, the ordered dicts look different but we can interact with them the same way we do normal dicts\n",
    "[OrderedDict([('number', '1'), ('year', '1967'), ('album', \"Sgt. Pepper's Lonely Hearts Club Band\"), ('artist', 'The Beatles'), ('genre', 'Rock'), ('subgenre', 'Rock & Roll, Psychedelic Rock')]), OrderedDict([('number', '2'), ('year', '1966'), ('album', 'Pet Sounds'), ('artist', 'The Beach Boys'), ('genre', 'Rock'), ('subgenre', 'Pop Rock, Psychedelic Rock')]), OrderedDict([('number', '3'), ('year', '1966'), ('album', 'Revolver'), ('artist', 'The Beatles'), ('genre', 'Rock'), ('subgenre', 'Psychedelic Rock, Pop Rock')])]\n",
    "```\n",
    "\n",
    "After we have our data formated the way we want it, we can now begin working on defining our functions."
   ]
  },
  {
   "cell_type": "markdown",
   "metadata": {},
   "source": [
    "\n",
    "### Functions to build-out:\n",
    "\n",
    "Each of the following functions can be defined in the `functions.py` file. \n",
    "\n",
    "* **Searching functions**\n",
    "  * Find by name - Takes in a string that represents the name of an album. Should return a dictionary with the correct album, or return `None`.\n",
    "  * Find by rank - Takes in a number that represents the rank in the list of top albums and returns the album with that rank. If there is no album with that rank, it returns `None`.\n",
    "  * Find by year - Takes in a number for the year in which an album was released and returns a list of albums that were released in that year. If there are no albums released in the given year, it returns an empty list.\n",
    "  * Find by years - Takes in a start year and end year. Returns a list of all albums that were released on or between the start and end years. If no albums are found for those years, then an empty list is returned. \n",
    "  * Find by ranks - Takes in a start rank and end rank. Returns a list of albums that are ranked between the start and end ranks. If no albums are found for those ranks, then an empty list is returned.\n",
    "* **All functions**\n",
    "  * All titles - Returns a list of titles for each album.\n",
    "  * All artists - Returns a list of artist names for each album.\n",
    "* **Questions to answer / functions**\n",
    "  * Artists with the most albums - Returns the artist with the highest amount of albums on the list of top albums \n",
    "  * Most popular word - Returns the word used most in amongst all album titles\n",
    "  * Histogram of albums by decade - Returns a histogram with each decade pointing to the number of albums released during that decade.\n",
    "  * Histogram by genre - Returns a histogram with each genre pointing to the number of albums that are categorized as being in that genre."
   ]
  },
  {
   "cell_type": "code",
   "execution_count": 4,
   "metadata": {},
   "outputs": [],
   "source": [
    "import csv\n",
    "with open('data.csv') as f:\n",
    "    reader = csv.DictReader(f)\n",
    "    data = [album for album in reader]\n",
    "#data"
   ]
  },
  {
   "cell_type": "code",
   "execution_count": 5,
   "metadata": {},
   "outputs": [],
   "source": [
    "def find_by_name(album, data):\n",
    "    for entry in data:\n",
    "        if entry['album'] == album:\n",
    "            return entry\n",
    "    else:\n",
    "        return None\n",
    "            \n",
    "#find_by_name('London Calling', data)"
   ]
  },
  {
   "cell_type": "code",
   "execution_count": null,
   "metadata": {},
   "outputs": [],
   "source": []
  },
  {
   "cell_type": "code",
   "execution_count": 6,
   "metadata": {},
   "outputs": [],
   "source": [
    "def find_by_rank(num, data):\n",
    "    for entry in data:\n",
    "        if entry['number'] == num:\n",
    "            return entry\n",
    "        \n",
    "    else:\n",
    "        return None\n",
    "\n",
    "       \n",
    "#find_by_rank('50', songs_top_500)"
   ]
  },
  {
   "cell_type": "code",
   "execution_count": 7,
   "metadata": {},
   "outputs": [],
   "source": [
    "def find_by_year(year, data):\n",
    "    for entry in data:\n",
    "        if 'album' in entry.keys():\n",
    "            albums_by_year = [entry['album'] for entry in data if entry['year']== year]\n",
    "            return albums_by_year\n",
    "        else:\n",
    "            songs_by_year =[entry['name'] for entry in data if entry['year']== year]\n",
    "            return songs_by_year\n",
    "#find_by_year('1970', data)"
   ]
  },
  {
   "cell_type": "code",
   "execution_count": 8,
   "metadata": {},
   "outputs": [],
   "source": [
    "def find_by_years(year_1, year_2, data):\n",
    "    for entry in data:\n",
    "        if 'album' in entry.keys():\n",
    "            albums_between_years = [entry['album'] for entry in data if int(entry['year']) in range(year_1, year_2+1)]\n",
    "            return albums_between_years\n",
    "        else:\n",
    "            names_between_years = [entry['name'] for entry in data if int(entry['year']) in range(year_1, year_2+1)]\n",
    "            return names_between_years"
   ]
  },
  {
   "cell_type": "code",
   "execution_count": 9,
   "metadata": {},
   "outputs": [],
   "source": [
    "#find_by_years(1960, 1961, data)"
   ]
  },
  {
   "cell_type": "code",
   "execution_count": 10,
   "metadata": {},
   "outputs": [],
   "source": [
    "def find_by_ranks(rank_1, rank_2, data):\n",
    "    for entry in data:\n",
    "        if 'album' in entry.keys():\n",
    "            album_ranks_between = [entry['album'] for entry in data if int(entry['number']) in range(rank_1, rank_2+1)]\n",
    "            return album_ranks_between\n",
    "        else:\n",
    "            song_ranks_between =[entry['name'] for entry in data if int(entry['number']) in range(rank_1, rank_2+1)]\n",
    "            return song_ranks_between\n",
    "#find_by_ranks(1, 5, data)"
   ]
  },
  {
   "cell_type": "code",
   "execution_count": 11,
   "metadata": {},
   "outputs": [],
   "source": [
    "def all_titles(data):\n",
    "    for entry in data:\n",
    "        if 'album'in entry.keys():\n",
    "            album_title_list = [entry['album'] for entry in data]\n",
    "            return album_title_list\n",
    "        else:\n",
    "            song_title_list = [entry['name'] for entry in data]\n",
    "            return song_title_list\n",
    "#all_titles(data)"
   ]
  },
  {
   "cell_type": "code",
   "execution_count": 12,
   "metadata": {},
   "outputs": [],
   "source": [
    "def all_artists(data):\n",
    "    artist_list = []\n",
    "    for artist in data:\n",
    "        artist_list.append(artist['artist'])\n",
    "    return artist_list\n",
    "#all_artists(data)        "
   ]
  },
  {
   "cell_type": "code",
   "execution_count": 13,
   "metadata": {},
   "outputs": [],
   "source": [
    "def best_artist(data):\n",
    "    artist_list = all_artists(data)\n",
    "    artist_dict = {}\n",
    "    for artist in artist_list:\n",
    "        if artist in artist_dict:\n",
    "            artist_dict[artist] += 1\n",
    "        else:\n",
    "            artist_dict[artist] = 1\n",
    "    for artist, number in artist_dict.items():\n",
    "        if number == max(artist_dict.values()):\n",
    "            return artist\n",
    "#best_artist(data)"
   ]
  },
  {
   "cell_type": "code",
   "execution_count": 14,
   "metadata": {},
   "outputs": [],
   "source": [
    "def best_word(data):\n",
    "    word_count = {}\n",
    "    for entry in data:\n",
    "        if 'album' in entry.keys():\n",
    "            albums = [entry['album'].split() for entry in data]\n",
    "            for album in albums:\n",
    "                for word in album:\n",
    "                    if word in word_count:\n",
    "                        word_count[word] += 1\n",
    "                    else:\n",
    "                        word_count[word] = 1\n",
    "        else:\n",
    "            if 'name' in entry.keys():\n",
    "                songs = [entry['name'].split() for entry in data]\n",
    "                for song in songs:\n",
    "                    for word in song:\n",
    "                        if word in word_count:\n",
    "                            word_count[word] += 1\n",
    "                        else:\n",
    "                            word_count[word] = 1\n",
    "    for word, count in word_count.items():\n",
    "        if count == max(word_count.values()):\n",
    "            return word\n",
    "#best_word(songs_top_500)"
   ]
  },
  {
   "cell_type": "code",
   "execution_count": 15,
   "metadata": {},
   "outputs": [],
   "source": [
    "import seaborn as sns\n",
    "from matplotlib import pyplot as plt\n",
    "import numpy as np\n",
    "import pandas as pd"
   ]
  },
  {
   "cell_type": "code",
   "execution_count": 16,
   "metadata": {},
   "outputs": [],
   "source": [
    "def by_decade(data):\n",
    "    fifties = [1950 for x in range(len(find_by_years(1950, 1959, data)))]\n",
    "    sixties = [1960 for x in range(len(find_by_years(1960, 1969, data)))]\n",
    "    seventies = [1970 for x in range(len(find_by_years(1970, 1979, data)))]\n",
    "    eighties = [1980 for x in range(len(find_by_years(1980, 1989, data)))]\n",
    "    nineties = [1990 for x in range(len(find_by_years(1990, 1999, data)))]\n",
    "    two_thousands = [2000 for x in range(len(find_by_years(2000, 2009, data)))]\n",
    "    twenty_tens = [2010 for x in range(len(find_by_years(2010, 2019, data)))]\n",
    "\n",
    "    decades = fifties + sixties + seventies + eighties + nineties + two_thousands + twenty_tens\n",
    "    return decades"
   ]
  },
  {
   "cell_type": "code",
   "execution_count": 17,
   "metadata": {},
   "outputs": [
    {
     "data": {
      "image/png": "[encoded data removed]",
      "text/plain": [
       "<Figure size 720x720 with 1 Axes>"
      ]
     },
     "metadata": {
      "needs_background": "light"
     },
     "output_type": "display_data"
    }
   ],
   "source": [
    "fig, ax = plt.subplots(figsize = (10, 10))\n",
    "ax.hist(by_decade(data), bins = 7)\n",
    "ax.set_xlabel('Decades');\n",
    "ax.set_ylabel('# of Albums')\n",
    "ax.set_title('Number of Albums Per Decade');"
   ]
  },
  {
   "cell_type": "code",
   "execution_count": 18,
   "metadata": {},
   "outputs": [],
   "source": [
    "def all_genres(data):\n",
    "    genres = []\n",
    "    for genre in data:\n",
    "        genres.append(genre['genre'])\n",
    "    return set(genres)"
   ]
  },
  {
   "cell_type": "code",
   "execution_count": 19,
   "metadata": {},
   "outputs": [],
   "source": [
    "#all_genres(data)"
   ]
  },
  {
   "cell_type": "markdown",
   "metadata": {},
   "source": [
    "## Next Steps"
   ]
  },
  {
   "cell_type": "code",
   "execution_count": 20,
   "metadata": {},
   "outputs": [],
   "source": [
    "text_file = open('top-500-songs.txt', 'r')\n",
    "lines = text_file.readlines()\n",
    "\n",
    "#print(lines)"
   ]
  },
  {
   "cell_type": "code",
   "execution_count": 22,
   "metadata": {},
   "outputs": [],
   "source": [
    "songs = [line.replace('\\n', '').split('\\t') for line in lines]\n",
    "\n",
    "songs_top_500 = [{'number': song[0], 'name': song[1], 'artist': song[2], 'year': song[3]} for song in songs]\n",
    "\n",
    "#songs_top_500[0]"
   ]
  },
  {
   "cell_type": "code",
   "execution_count": 23,
   "metadata": {},
   "outputs": [],
   "source": [
    "#find_by_rank('5', songs_top_500)"
   ]
  },
  {
   "cell_type": "markdown",
   "metadata": {},
   "source": [
    "Now that we have our functions querying our Album data, let's compare that data with the top 500 songs. We have another file -- a text file! -- that contains the data we need for the top 500 songs. Reading a text file is pretty similar to reading a csv file, however, it tends to need a bit more massaging to get your data formatted the way you want it.\n",
    "\n",
    "```python\n",
    "    # open the text file in read\n",
    "    text_file = open('top-500-songs.txt', 'r')\n",
    "    # read each line of the text file\n",
    "    # here is where you can print out the lines to your terminal and get an idea \n",
    "    # for how you might think about re-formatting the data\n",
    "    lines = text_file.readlines()\n",
    "\n",
    "    print(lines)\n",
    "    # the output will look something like this:\n",
    "['1\\tLike a Rolling Stone\\tBob Dylan\\t1965\\n', '2\\tSatisfaction\\tThe Rolling Stones\\t1965\\n', '3\\tImagine\\tJohn Lennon\\t1971\\n', \"4\\tWhat's Going On\\tMarvin Gaye\\t1971\\n\", '5\\tRespect\\tAretha Franklin\\t1967\\n', '6\\tGood Vibrations\\tThe Beach Boys\\t1966\\n', '7\\tJohnny B. Goode\\tChuck Berry\\t1958\\n', '8\\tHey Jude\\tThe Beatles\\t1968\\n', ...]\n",
    "```\n",
    "\n",
    "It looks like `\\t` is how the text file is separating each element on a line. So, we need a function that can separate a string into a list. Then we can tell this function on what to split our string (i.e. `\\t`). From there we will have a list of lists that are formatted like the following:\n",
    "```python\n",
    "[\"RANK\", \"NAME\", \"ARTIST\", \"YEAR\"]\n",
    "```\n",
    "We need to use our knowledge of iterating to go through each of these elements and turn them into dictionaries with the keys, \"rank\", \"name\", \"artist\", \"year\", pointing to the appropriate values. So, for song number 1, we want it to look like:\n",
    "```python\n",
    "{'rank': 1, 'name': \"Like a Rolling Stone\", 'artist'\"Bob Dylan\": , 'year': 1965}\n",
    "```\n",
    "\n",
    "Once we have a list of songs that are formatted like the above, we can move on to figuring out which songs are from the top albums and which albums and artists have the most 'top songs'."
   ]
  },
  {
   "cell_type": "markdown",
   "metadata": {},
   "source": [
    "### Working with the top 500 songs"
   ]
  },
  {
   "cell_type": "markdown",
   "metadata": {},
   "source": [
    "If we can't already re-use our searching functions (i.e. Find by name, Find by rank, Find by year, Find by years, Find by ranks), all functions (i.e. all titles, all artists), and questions-to-answer functions (i.e. Artists with the most albums (or songs), Most popular word, Histogram by decade, Histogram by genre) with the song data we just formatted, then refactor these functions so that they can be used with either set of data. This is a good practice for ensuring that our code is as reusable and modular as possible, which is important when writing code for any project, especially when it comes time to scale a project. Things are easier to read, and there is less code to worry about (and more importantly there is less code to debug when something goes wrong).\n",
    "\n",
    "Once we have our functions working for both sets of data, we can start writing new functions!\n",
    "\n",
    "Luckily for us, this next dataset is already made for us. We were curious to find out which songs on the top 500 songs overlapped with the top albums and vice versa. So, we created a data set that is a list of dictionaries in JSON format. Each dictionary contains the name of the artist, the album, and the tracks (songs) on that given album. We can use this data to check which songs on the top 500 list are featured on the albums on the top albums list.\n",
    "\n",
    "To load our JSON file we will write:\n",
    "\n",
    "```python\n",
    "import json\n",
    "\n",
    "file = open('track_data.json', 'r')\n",
    "json_data = json.load(file)\n",
    "\n",
    "print(json_data)\n",
    "# output will look like this:\n",
    "[{'artist': 'The Beatles', 'album': \"Sgt. Pepper's Lonely Hearts Club Band\", 'tracks': [\"Sgt. Pepper's Lonely Hearts Club Band - Remix\", 'With A Little Help From My Friends - Remix', 'Lucy In The Sky With Diamonds - Remix', 'Getting Better - Remix', 'Fixing A Hole - Remix', \"She's Leaving Home - Remix\", 'Being For The Benefit Of Mr. Kite! - Remix', 'Within You Without You - Remix', \"When I'm Sixty-Four - Remix\", 'Lovely Rita - Remix', 'Good Morning Good Morning - Remix', \"Sgt. Pepper's Lonely Hearts Club Band (Reprise) - Remix\", 'A Day In The Life - Remix', \"Sgt. Pepper's Lonely Hearts Club Band - Take 9 And Speech\", 'With A Little Help From My Friends - Take 1 / False Start And Take 2 / Instrumental', 'Lucy In The Sky With Diamonds - Take 1', 'Getting Better - Take 1 / Instrumental And Speech At The End', 'Fixing A Hole - Speech And Take 3', \"She's Leaving Home - Take 1 / Instrumental\", 'Being For The Benefit Of Mr. Kite! - Take 4', 'Within You Without You - Take 1 / Indian Instruments', \"When I'm Sixty-Four - Take 2\", 'Lovely Rita - Speech And Take 9', 'Good Morning Good Morning - Take 8', \"Sgt. Pepper's Lonely Hearts Club Band (Reprise) - Speech And Take 8\", 'A Day In The Life - Take 1 With Hums', 'Strawberry Fields Forever - Take 7', 'Strawberry Fields Forever - Take 26', 'Strawberry Fields Forever - Stereo Mix 2015', 'Penny Lane - Take 6 / Instrumental', 'Penny Lane - Stereo Mix 2017']}, {'artist': 'The Beach Boys', 'album': 'Pet Sounds', 'tracks': [\"Wouldn't It Be Nice - Digitally Remastered 96\", 'You Still Believe In Me - Digitally Remastered 96', \"That's Not Me - 1996 Digital Remaster\", \"Don't Talk (Put Your Head On My Shoulder) - 1996 Digital Remaster\", \"I'm Waiting For The Day - Digitally Remastered 96\", \"Let's Go Away For Awhile - Digitally Remastered 96\", 'Sloop John B - 1996 - Remaster', 'God Only Knows - 1997 - Remaster', \"I Know There's An Answer - Digitally Remastered 96\", 'Here Today - Digitally Remastered 96', \"I Just Wasn't Made For These Times - Digitally Remastered 96\", 'Pet Sounds - Digitally Remastered 96', 'Caroline, No - 1996 Digital Remaster', 'Hang On To Your Ego', \"Wouldn't It Be Nice - 2000 - Remaster\", 'You Still Believe In Me - 1996 Digital Remaster', \"That's Not Me - 1996 Digital Remaster\", \"Don't Talk (Put Your Head On My Shoulder) - 1996 Digital Remaster\", \"I'm Waiting For The Day - 1996 Digital Remaster\", \"Let's Go Away For Awhile - 1996 Digital Remaster\", 'Sloop John B - 1996 Digital Remaster', 'God Only Knows - 1996 Digital Remaster', \"I Know There's An Answer - 1996 Digital Remaster\", 'Here Today - 1996 Digital Remaster', \"I Just Wasn't Made For These Times - 1996 Digital Remaster\", 'Pet Sounds - 1996 Digital Remaster', 'Caroline, No - 1996 Digital Remaster']}, {'artist': 'The Beatles', 'album': 'Revolver', 'tracks': ['Taxman - Remastered', 'Eleanor Rigby - Remastered', \"I'm Only Sleeping - Remastered\", 'Love You To - Remastered', 'Here, There And Everywhere - Remastered', 'Yellow Submarine - Remastered', 'She Said She Said - Remastered', 'Good Day Sunshine - Remastered', 'And Your Bird Can Sing - Remastered', 'For No One - Remastered', 'Doctor Robert - Remastered', 'I Want To Tell You - Remastered', 'Got To Get You Into My Life - Remastered', 'Tomorrow Never Knows - Remastered']}, {'artist': 'Bob Dylan', 'album': 'Highway 61 Revisited', 'tracks': ['Like a Rolling Stone', 'Tombstone Blues', 'It Takes a Lot to Laugh, It Takes a Train to Cry', 'From a Buick 6', 'Ballad of a Thin Man', 'Queen Jane Approximately', 'Highway 61 Revisited', \"Just Like Tom Thumb's Blues\", 'Desolation Row']}, ...]\n",
    "```"
   ]
  },
  {
   "cell_type": "code",
   "execution_count": 24,
   "metadata": {},
   "outputs": [],
   "source": [
    "import json\n",
    "\n",
    "file = open('track_data.json', 'r')\n",
    "song_info = json.load(file)\n",
    "\n",
    "#print(song_info)"
   ]
  },
  {
   "cell_type": "markdown",
   "metadata": {},
   "source": [
    "### Define the following functions:\n",
    "\n",
    "**albumWithMostTopSongs** - returns the name of the artist and album that has that most songs featured on the top 500 songs list\n",
    "\n",
    "**albumsWithTopSongs** - returns a list with the name of only the albums that have tracks featured on the list of top 500 songs\n",
    "\n",
    "**songsThatAreOnTopAlbums** - returns a list with the name of only the songs featured on the list of top albums\n",
    "\n",
    "**top10AlbumsByTopSongs** - returns a histogram with the 10 albums that have the most songs that appear in the top songs list. The album names should point to the number of songs that appear on the top 500 songs list.\n",
    "\n",
    "**topOverallArtist** - Artist featured with the most songs and albums on the two lists. This means that if Brittany Spears had 3 of her albums featured on the top albums listed and 10 of her songs featured on the top songs, she would have a total of 13. The artist with the highest aggregate score would be the top overall artist."
   ]
  },
  {
   "cell_type": "code",
   "execution_count": 25,
   "metadata": {},
   "outputs": [],
   "source": [
    "def albumWithMostTopSongs(song_info, songs_top_500):\n",
    "    songs = all_titles(songs_top_500)\n",
    "    album_counter = {}\n",
    "    \n",
    "    for song in songs:\n",
    "        for album in song_info:\n",
    "            if song in album['tracks']:\n",
    "                if album['album'] in album_counter:\n",
    "                    album_counter[album['album']] +=1\n",
    "                else:\n",
    "                    album_counter[album['album']] =1\n",
    "\n",
    "    top_value = max(album_counter.values())\n",
    "    \n",
    "    for key, value in album_counter.items():\n",
    "        if value == top_value:\n",
    "            top_album = key\n",
    "    for entry in song_info:\n",
    "        if entry['album'] == top_album:\n",
    "            top_artist = entry['artist']\n",
    "    return (top_album , top_artist)\n",
    "    #for entry in data:\n",
    "        #if entry['album'] == top_album:\n",
    "            #top_artist = entry['artist']\n",
    "    #return (top_album , top_artist)"
   ]
  },
  {
   "cell_type": "code",
   "execution_count": 26,
   "metadata": {},
   "outputs": [],
   "source": [
    "#albumWithMostTopSongs(song_info, songs_top_500)"
   ]
  },
  {
   "cell_type": "code",
   "execution_count": 41,
   "metadata": {},
   "outputs": [],
   "source": [
    "def albumsWithTopSongs(song_info, songs_top_500):\n",
    "    songs = all_titles(songs_top_500)\n",
    "    album_list = []\n",
    "    for song in songs:\n",
    "        for album in song_info:\n",
    "            if song in album['tracks']:\n",
    "                album_list.append(album['album'])\n",
    "    return album_list"
   ]
  },
  {
   "cell_type": "code",
   "execution_count": 35,
   "metadata": {},
   "outputs": [],
   "source": [
    "#albumsWithTopSongs(song_info, songs_top_500)\n",
    "#all_titles(data)"
   ]
  },
  {
   "cell_type": "markdown",
   "metadata": {},
   "source": []
  },
  {
   "cell_type": "code",
   "execution_count": 44,
   "metadata": {},
   "outputs": [],
   "source": [
    "def songsOnTopAlbums(song_info, data):\n",
    "    albums = all_titles(data)\n",
    "    song_list = []\n",
    "    for album in albums:\n",
    "        for track in song_info:\n",
    "            if album in track['album']:\n",
    "                song_list.append(track['tracks'])\n",
    "    return song_list\n",
    "            "
   ]
  },
  {
   "cell_type": "code",
   "execution_count": 46,
   "metadata": {},
   "outputs": [],
   "source": [
    "#songsOnTopAlbums(song_info, data)"
   ]
  },
  {
   "cell_type": "code",
   "execution_count": 47,
   "metadata": {},
   "outputs": [],
   "source": [
    "def top10AlbumsByTopSongs(song_info, songs_top_500):\n",
    "    songs = all_titles(songs_top_500)\n",
    "    album_counter = {}\n",
    "    \n",
    "    for song in songs:\n",
    "        for album in song_info:\n",
    "            if song in album['tracks']:\n",
    "                if album['album'] in album_counter:\n",
    "                    album_counter[album['album']] +=1\n",
    "                else:\n",
    "                    album_counter[album['album']] =1\n",
    "    sorted_counter = sorted(album_counter.items(), key = lambda kv: kv[1], reverse=True)\n",
    "    num_of_songs_per_album = {a:b for a,b in sorted_counter[:10]}\n",
    "    \n",
    "    return num_of_songs_per_album"
   ]
  },
  {
   "cell_type": "code",
   "execution_count": 51,
   "metadata": {},
   "outputs": [],
   "source": [
    "top_ten_dict = top10AlbumsByTopSongs(song_info, songs_top_500)\n"
   ]
  },
  {
   "cell_type": "code",
   "execution_count": 54,
   "metadata": {},
   "outputs": [
    {
     "name": "stderr",
     "output_type": "stream",
     "text": [
      "<ipython-input-54-1545257d1c62>:4: UserWarning: FixedFormatter should only be used together with FixedLocator\n",
      "  ax.set_xticklabels(top_ten_dict.keys(), rotation='vertical')\n"
     ]
    },
    {
     "data": {
      "text/plain": [
       "Text(0, 0.5, 'Song Count')"
      ]
     },
     "execution_count": 54,
     "metadata": {},
     "output_type": "execute_result"
    },
    {
     "data": {
      "image/png": "[encoded data removed]",
      "text/plain": [
       "<Figure size 432x288 with 1 Axes>"
      ]
     },
     "metadata": {
      "needs_background": "light"
     },
     "output_type": "display_data"
    }
   ],
   "source": [
    "fig, ax = plt.subplots()\n",
    "ax.bar(top_ten_dict.keys(), top_ten_dict.values())\n",
    "ax.set_title('10 Albums with most top 500 songs')\n",
    "ax.set_xticklabels(top_ten_dict.keys(), rotation='vertical')\n",
    "ax.set_xlabel('Album')\n",
    "ax.set_ylabel('Song Count')"
   ]
  },
  {
   "cell_type": "code",
   "execution_count": 55,
   "metadata": {},
   "outputs": [],
   "source": [
    "from collections import Counter\n",
    "def topOverallArtist(data, songs_top_500):\n",
    "    artist_album_count = Counter(all_artists(data))\n",
    "    artist_song_count = Counter(all_artists(songs_top_500))\n",
    "    for artist in artist_album_count:\n",
    "        if artist in artist_song_count:\n",
    "            artist_song_count[artist] += artist_album_count[artist]\n",
    "        else:\n",
    "            artist_song_count[artist] = artist_album_count[artist]\n",
    "            \n",
    "    maximum_agg = max(artist_song_count.values())\n",
    "    lst = []\n",
    "    for key, value in artist_song_count.items():\n",
    "        if value == maximum_agg:\n",
    "            lst.append(key)\n",
    "    return lst"
   ]
  },
  {
   "cell_type": "code",
   "execution_count": 57,
   "metadata": {},
   "outputs": [],
   "source": [
    "#topOverallArtist(data, songs_top_500)"
   ]
  },
  {
   "cell_type": "code",
   "execution_count": null,
   "metadata": {},
   "outputs": [],
   "source": []
  }
 ],
 "metadata": {
  "kernelspec": {
   "display_name": "Python 3",
   "language": "python",
   "name": "python3"
  },
  "language_info": {
   "codemirror_mode": {
    "name": "ipython",
    "version": 3
   },
   "file_extension": ".py",
   "mimetype": "text/x-python",
   "name": "python",
   "nbconvert_exporter": "python",
   "pygments_lexer": "ipython3",
   "version": "3.8.5"
  }
 },
 "nbformat": 4,
 "nbformat_minor": 2
}
